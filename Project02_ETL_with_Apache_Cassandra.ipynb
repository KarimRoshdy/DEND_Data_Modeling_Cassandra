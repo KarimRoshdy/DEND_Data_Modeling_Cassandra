{
 "cells": [
  {
   "cell_type": "markdown",
   "metadata": {
    "editable": true
   },
   "source": [
    "# Part I. ETL Pipeline for Pre-Processing the Files"
   ]
  },
  {
   "cell_type": "markdown",
   "metadata": {
    "editable": true
   },
   "source": [
    "## PLEASE RUN THE FOLLOWING CODE FOR PRE-PROCESSING THE FILES"
   ]
  },
  {
   "cell_type": "markdown",
   "metadata": {
    "editable": true
   },
   "source": [
    "#### Import Python packages "
   ]
  },
  {
   "cell_type": "code",
   "execution_count": 1,
   "metadata": {
    "editable": true
   },
   "outputs": [],
   "source": [
    "import pandas as pd\n",
    "import cassandra\n",
    "import re\n",
    "import os\n",
    "import glob\n",
    "import numpy as np\n",
    "import json\n",
    "import csv"
   ]
  },
  {
   "cell_type": "code",
   "execution_count": 2,
   "metadata": {
    "editable": true
   },
   "outputs": [
    {
     "name": "stdout",
     "output_type": "stream",
     "text": [
      "/home/workspace\n"
     ]
    },
    {
     "data": {
      "text/plain": [
       "['/home/workspace/event_data/2018-11-30-events.csv',\n",
       " '/home/workspace/event_data/2018-11-23-events.csv',\n",
       " '/home/workspace/event_data/2018-11-22-events.csv',\n",
       " '/home/workspace/event_data/2018-11-29-events.csv',\n",
       " '/home/workspace/event_data/2018-11-11-events.csv',\n",
       " '/home/workspace/event_data/2018-11-14-events.csv',\n",
       " '/home/workspace/event_data/2018-11-20-events.csv',\n",
       " '/home/workspace/event_data/2018-11-15-events.csv',\n",
       " '/home/workspace/event_data/2018-11-05-events.csv',\n",
       " '/home/workspace/event_data/2018-11-28-events.csv',\n",
       " '/home/workspace/event_data/2018-11-25-events.csv',\n",
       " '/home/workspace/event_data/2018-11-16-events.csv',\n",
       " '/home/workspace/event_data/2018-11-18-events.csv',\n",
       " '/home/workspace/event_data/2018-11-24-events.csv',\n",
       " '/home/workspace/event_data/2018-11-04-events.csv',\n",
       " '/home/workspace/event_data/2018-11-19-events.csv',\n",
       " '/home/workspace/event_data/2018-11-26-events.csv',\n",
       " '/home/workspace/event_data/2018-11-12-events.csv',\n",
       " '/home/workspace/event_data/2018-11-27-events.csv',\n",
       " '/home/workspace/event_data/2018-11-06-events.csv',\n",
       " '/home/workspace/event_data/2018-11-09-events.csv',\n",
       " '/home/workspace/event_data/2018-11-03-events.csv',\n",
       " '/home/workspace/event_data/2018-11-21-events.csv',\n",
       " '/home/workspace/event_data/2018-11-07-events.csv',\n",
       " '/home/workspace/event_data/2018-11-01-events.csv',\n",
       " '/home/workspace/event_data/2018-11-13-events.csv',\n",
       " '/home/workspace/event_data/2018-11-17-events.csv',\n",
       " '/home/workspace/event_data/2018-11-08-events.csv',\n",
       " '/home/workspace/event_data/2018-11-10-events.csv',\n",
       " '/home/workspace/event_data/2018-11-02-events.csv']"
      ]
     },
     "execution_count": 2,
     "metadata": {},
     "output_type": "execute_result"
    }
   ],
   "source": [
    "# checking  current working directory\n",
    "print(os.getcwd())\n",
    "\n",
    "# Get  current folder and subfolder event data\n",
    "filepath = os.getcwd() + '/event_data'\n",
    "\n",
    "path_list = []\n",
    "\n",
    "# Create a for loop to create a list of files and collect each filepath\n",
    "for root, dirs, files in os.walk(filepath):\n",
    "    # join the file path and roots with the subdirectories using glob\n",
    "    file_path_list = glob.glob(os.path.join(root,'*'))\n",
    "    path_list.append(file_path_list)\n",
    "\n",
    "path_list = path_list[0]\n",
    "path_list"
   ]
  },
  {
   "cell_type": "markdown",
   "metadata": {
    "editable": true
   },
   "source": [
    "#### Processing the files to create the data file csv that will be used for Apache Casssandra tables"
   ]
  },
  {
   "cell_type": "code",
   "execution_count": 3,
   "metadata": {
    "editable": true
   },
   "outputs": [
    {
     "name": "stdout",
     "output_type": "stream",
     "text": [
      "8056\n"
     ]
    }
   ],
   "source": [
    "full_data_rows_list = [] \n",
    "    \n",
    "for f in path_list:\n",
    "\n",
    "# reading csv file \n",
    "    with open(f, 'r', encoding = 'utf8', newline='') as csvfile: \n",
    "        # creating a csv reader object \n",
    "        csvreader = csv.reader(csvfile) \n",
    "        next(csvreader)\n",
    "        \n",
    "        for line in csvreader:\n",
    "            full_data_rows_list.append(line) \n",
    "            \n",
    "print(len(full_data_rows_list))\n",
    "\n",
    "# creating a smaller event data csv file called event_datafile_full csv that will be used to insert data into the \\\n",
    "# Apache Cassandra tables\n",
    "csv.register_dialect('myDialect', quoting=csv.QUOTE_ALL, skipinitialspace=True)\n",
    "\n",
    "with open('event_datafile_new.csv', 'w', encoding = 'utf8', newline='') as f:\n",
    "    writer = csv.writer(f, dialect='myDialect')\n",
    "    writer.writerow(['artist','firstName','gender','itemInSession','lastName','length',\\\n",
    "                'level','location','sessionId','song','userId'])\n",
    "    for row in full_data_rows_list:\n",
    "        if (row[0] == ''):\n",
    "            continue\n",
    "        writer.writerow((row[0], row[2], row[3], row[4], row[5], row[6], row[7], row[8], row[12], row[13], row[16]))\n"
   ]
  },
  {
   "cell_type": "code",
   "execution_count": 4,
   "metadata": {
    "editable": true
   },
   "outputs": [
    {
     "name": "stdout",
     "output_type": "stream",
     "text": [
      "6821\n"
     ]
    }
   ],
   "source": [
    "# check the number of rows in your csv file\n",
    "with open('event_datafile_new.csv', 'r', encoding = 'utf8') as f:\n",
    "    print(sum(1 for line in f))"
   ]
  },
  {
   "cell_type": "markdown",
   "metadata": {
    "editable": true
   },
   "source": [
    "# Part II. Complete the Apache Cassandra coding portion of your project. \n",
    "\n",
    "## Now you are ready to work with the CSV file titled <font color=red>event_datafile_new.csv</font>, located within the Workspace directory.  The event_datafile_new.csv contains the following columns: \n",
    "- artist \n",
    "- firstName of user\n",
    "- gender of user\n",
    "- item number in session\n",
    "- last name of user\n",
    "- length of the song\n",
    "- level (paid or free song)\n",
    "- location of the user\n",
    "- sessionId\n",
    "- song title\n",
    "- userId\n",
    "\n",
    "The image below is a screenshot of what the denormalized data should appear like in the <font color=red>**event_datafile_new.csv**</font> after the code above is run:<br>\n",
    "\n",
    "<img src=\"images/image_event_datafile_new.jpg\">"
   ]
  },
  {
   "cell_type": "code",
   "execution_count": 5,
   "metadata": {
    "editable": true
   },
   "outputs": [],
   "source": [
    "# This should make a connection to a Cassandra instance your local machine \n",
    "# (127.0.0.1)\n",
    "\n",
    "from cassandra.cluster import Cluster\n",
    "cluster = Cluster(['127.0.0.1'])\n",
    "\n",
    "# To establish connection and begin executing queries, need a session\n",
    "session = cluster.connect()"
   ]
  },
  {
   "cell_type": "code",
   "execution_count": 6,
   "metadata": {
    "editable": true
   },
   "outputs": [
    {
     "data": {
      "text/plain": [
       "<cassandra.cluster.ResultSet at 0x7f42060ba978>"
      ]
     },
     "execution_count": 6,
     "metadata": {},
     "output_type": "execute_result"
    }
   ],
   "source": [
    "# Create a Keyspace sparkify\n",
    "session.execute(\"\"\"\n",
    "    CREATE KEYSPACE IF NOT EXISTS sparkify \n",
    "    WITH REPLICATION = \n",
    "    { 'class' : 'SimpleStrategy', 'replication_factor' : 1 }\"\"\"\n",
    ")\n"
   ]
  },
  {
   "cell_type": "code",
   "execution_count": 7,
   "metadata": {
    "editable": true
   },
   "outputs": [],
   "source": [
    "# Set KEYSPACE to sparkify\n",
    "session.set_keyspace('sparkify')"
   ]
  },
  {
   "cell_type": "markdown",
   "metadata": {
    "editable": true
   },
   "source": [
    "## Create queries to ask the following three questions of the data\n",
    "\n",
    "### 1. Give me the artist, song title and song's length in the music app history that was heard during  sessionId = 338, and itemInSession  = 4\n",
    "\n",
    "\n",
    "### 2. Give me only the following: name of artist, song (sorted by itemInSession) and user (first and last name) for userid = 10, sessionid = 182\n",
    "    \n",
    "\n",
    "### 3. Give me every user name (first and last) in my music app history who listened to the song 'All Hands Against His Own'\n",
    "\n",
    "\n"
   ]
  },
  {
   "cell_type": "code",
   "execution_count": 8,
   "metadata": {
    "editable": true
   },
   "outputs": [],
   "source": [
    "# create query 1:  Give me the artist, song title and song's length in the music app history that was heard during |\n",
    "## sessionId = 338, and itemInSession = 4\n",
    "\n",
    "\n",
    "# query1 requires session_id as partition key amd iteminsession as clustering key to get a unique primary key\n",
    "\n",
    "create_query1= \"\"\"CREATE TABLE IF NOT EXISTS songs_by_sessionid (session_id INT, iteminsession INT, artist_name TEXT, song TEXT, song_length DECIMAL,\n",
    "            PRIMARY KEY (session_id, iteminsession))\"\"\"\n",
    "try:\n",
    "    session.execute(create_query1)\n",
    "except Exception as e:\n",
    "    print(e)\n",
    "                    "
   ]
  },
  {
   "cell_type": "code",
   "execution_count": 9,
   "metadata": {
    "editable": true
   },
   "outputs": [],
   "source": [
    "file = 'event_datafile_new.csv'\n",
    "\n",
    "with open(file, encoding = 'utf8') as f:\n",
    "    csvreader = csv.reader(f)\n",
    "    next(csvreader) \n",
    "\n",
    "    for line in csvreader:\n",
    "        insert_query1 = \"INSERT INTO  songs_by_sessionid(session_id, iteminsession, artist_name, song, song_length) \"\n",
    "        insert_query1 = insert_query1 + \"VALUES(%s,%s,%s,%s,%s)\"\n",
    "        session.execute(insert_query1, (int(line[8]), int(line[3]),line[0],line[9],float(line[5])))"
   ]
  },
  {
   "cell_type": "code",
   "execution_count": 10,
   "metadata": {
    "editable": true,
    "scrolled": true
   },
   "outputs": [
    {
     "name": "stdout",
     "output_type": "stream",
     "text": [
      "Row(session_id=338, iteminsession=4, artist_name='Faithless', song='Music Matters (Mark Knight Dub)', song_length=Decimal('495.3073'))\n"
     ]
    }
   ],
   "source": [
    "# validate query1\n",
    "select_query1= \"\"\"SELECT * FROM  songs_by_sessionid WHERE session_id=338 AND iteminsession=4 \"\"\"\n",
    "try:\n",
    "    rows= session.execute(select_query1)\n",
    "except Exception as e:\n",
    "    print(e)\n",
    "    \n",
    "for row in rows:\n",
    "    print (row)"
   ]
  },
  {
   "cell_type": "code",
   "execution_count": 11,
   "metadata": {
    "editable": true
   },
   "outputs": [],
   "source": [
    "## create query 2: Give me only the following: name of artist, song (sorted by itemInSession) and user (first and last name)\\\n",
    "## for userid = 10, sessionid = 182\n",
    "\n",
    "## query2 requires user_id and session_id as partition keys and iteminsession as clustering key to order by iteminsession\n",
    "## primary key is made up of two partition key and clusting key(which should not be used in the query)\n",
    "\n",
    "create_query2= \"\"\"CREATE TABLE IF NOT EXISTS songs_by_userid (user_id INT, session_id INT,iteminsession INT, artist_name TEXT, song TEXT, first_name TEXT,\n",
    "            last_name TEXT, PRIMARY KEY ((user_id, session_id),iteminsession))\"\"\"\n",
    "try:\n",
    "    session.execute(create_query2)\n",
    "except Exception as e:\n",
    "    print(e)\n",
    "                  \n",
    "\n",
    "                    "
   ]
  },
  {
   "cell_type": "code",
   "execution_count": 12,
   "metadata": {
    "editable": true
   },
   "outputs": [],
   "source": [
    "with open(file, encoding = 'utf8') as f:\n",
    "    csvreader = csv.reader(f)\n",
    "    next(csvreader) # skip header\n",
    "\n",
    "    for line in csvreader:\n",
    "        insert_query2 = \"INSERT INTO songs_by_userid(user_id, session_id, iteminsession, artist_name, song, first_name, last_name) \"\n",
    "        insert_query2 = insert_query2 + \"VALUES(%s,%s,%s,%s,%s,%s,%s)\"\n",
    "        session.execute(insert_query2,(int(line[10]), int(line[8]), int(line[3]), line[0], line[9], line[1], line[4]))"
   ]
  },
  {
   "cell_type": "code",
   "execution_count": 13,
   "metadata": {
    "editable": true
   },
   "outputs": [
    {
     "name": "stdout",
     "output_type": "stream",
     "text": [
      "Row(user_id=10, session_id=182, iteminsession=0, artist_name='Down To The Bone', first_name='Sylvie', last_name='Cruz', song=\"Keep On Keepin' On\")\n",
      "Row(user_id=10, session_id=182, iteminsession=1, artist_name='Three Drives', first_name='Sylvie', last_name='Cruz', song='Greece 2000')\n",
      "Row(user_id=10, session_id=182, iteminsession=2, artist_name='Sebastien Tellier', first_name='Sylvie', last_name='Cruz', song='Kilometer')\n",
      "Row(user_id=10, session_id=182, iteminsession=3, artist_name='Lonnie Gordon', first_name='Sylvie', last_name='Cruz', song='Catch You Baby (Steve Pitron & Max Sanna Radio Edit)')\n"
     ]
    }
   ],
   "source": [
    "# validate query2\n",
    "select_query2= \"\"\"SELECT * FROM songs_by_userid WHERE user_id = 10 AND session_id=182 \"\"\"\n",
    "try:\n",
    "    rows= session.execute(select_query2)\n",
    "except Exception as e:\n",
    "    print(e)\n",
    "    \n",
    "for row in rows:\n",
    "    print (row)"
   ]
  },
  {
   "cell_type": "code",
   "execution_count": 14,
   "metadata": {
    "editable": true
   },
   "outputs": [],
   "source": [
    "## Query 3: Give me every user name (first and last) in my music app history who listened to the song 'All Hands Against His Own'\n",
    "\n",
    "## query3 requires song as partition key and user_id as clustering key since a single song can be listened by many users\n",
    "## primary key is made up of one partition key and clusting key (which should not be used in the query)\n",
    "\n",
    "create_query3= \"\"\"CREATE TABLE IF NOT EXISTS songs_by_username (user_id INT, song TEXT, first_name TEXT, last_name TEXT, PRIMARY KEY (song, user_id))\"\"\"\n",
    "try:\n",
    "    session.execute(create_query3)\n",
    "except Exception as e:\n",
    "    print(e)\n",
    "                    "
   ]
  },
  {
   "cell_type": "code",
   "execution_count": 15,
   "metadata": {
    "editable": true
   },
   "outputs": [],
   "source": [
    "with open(file, encoding = 'utf8') as f:\n",
    "    csvreader = csv.reader(f)\n",
    "    next(csvreader) # skip header\n",
    "\n",
    "    for line in csvreader:\n",
    "        insert_query3 = \"INSERT INTO songs_by_username(user_id, song, first_name, last_name) \"\n",
    "        insert_query3 = insert_query3 + \"VALUES(%s,%s,%s,%s)\"\n",
    "        session.execute(insert_query3,(int(line[10]),line[9], line[1], line[4]))"
   ]
  },
  {
   "cell_type": "code",
   "execution_count": 16,
   "metadata": {
    "editable": true
   },
   "outputs": [
    {
     "name": "stdout",
     "output_type": "stream",
     "text": [
      "Row(song='All Hands Against His Own', user_id=29, first_name='Jacqueline', last_name='Lynch')\n",
      "Row(song='All Hands Against His Own', user_id=80, first_name='Tegan', last_name='Levine')\n",
      "Row(song='All Hands Against His Own', user_id=95, first_name='Sara', last_name='Johnson')\n"
     ]
    }
   ],
   "source": [
    "# validate query3\n",
    "select_query3= \"\"\"SELECT * FROM songs_by_username WHERE song= 'All Hands Against His Own'\"\"\"\n",
    "try:\n",
    "    rows= session.execute(select_query3)\n",
    "except Exception as e:\n",
    "    print(e)\n",
    "    \n",
    "for row in rows:\n",
    "    print (row)"
   ]
  },
  {
   "cell_type": "code",
   "execution_count": 17,
   "metadata": {
    "editable": true
   },
   "outputs": [],
   "source": [
    "# Drop all tables\n",
    "Drop_query1 = \"Drop Table songs_by_sessionid\"\n",
    "try:\n",
    "    rows = session.execute(Drop_query1)\n",
    "except Exception as e:\n",
    "    print(e)\n",
    "Drop_query2 = \"Drop Table songs_by_userid\"\n",
    "\n",
    "try:\n",
    "    rows = session.execute(Drop_query2)\n",
    "except Exception as e:\n",
    "    print(e)\n",
    "Drop_query3 = \"Drop Table songs_by_username\"\n",
    "\n",
    "try:\n",
    "    rows = session.execute(Drop_query3)\n",
    "except Exception as e:\n",
    "    print(e)"
   ]
  },
  {
   "cell_type": "markdown",
   "metadata": {
    "editable": true
   },
   "source": [
    "### Close the session and cluster connection¶"
   ]
  },
  {
   "cell_type": "code",
   "execution_count": 18,
   "metadata": {
    "editable": true
   },
   "outputs": [],
   "source": [
    "session.shutdown()\n",
    "cluster.shutdown()"
   ]
  }
 ],
 "metadata": {
  "kernelspec": {
   "display_name": "Python 3",
   "language": "python",
   "name": "python3"
  },
  "language_info": {
   "codemirror_mode": {
    "name": "ipython",
    "version": 3
   },
   "file_extension": ".py",
   "mimetype": "text/x-python",
   "name": "python",
   "nbconvert_exporter": "python",
   "pygments_lexer": "ipython3",
   "version": "3.6.3"
  }
 },
 "nbformat": 4,
 "nbformat_minor": 4
}
